{
 "cells": [
  {
   "cell_type": "code",
   "execution_count": 37,
   "id": "0a66d3e4",
   "metadata": {
    "scrolled": true
   },
   "outputs": [
    {
     "data": {
      "text/plain": [
       "(221,\n",
       " b'2.0.0 closing connection f10-20020a0560001b0a00b0020402c09067sm5265248wrz.50 - gsmtp')"
      ]
     },
     "execution_count": 37,
     "metadata": {},
     "output_type": "execute_result"
    }
   ],
   "source": [
    "import requests\n",
    "import json\n",
    "import pandas as pd\n",
    "import smtplib\n",
    "from email.mime.multipart import MIMEMultipart\n",
    "from email.mime.text import MIMEText\n",
    "from email.mime.base import MIMEBase\n",
    "from email import encoders\n",
    "\n",
    "headers = {\"Token\": \"enter your token here\"}\n",
    "querystring = {\"size\":\"10\",\"page\":\"0\"}\n",
    "url = \"https://api.wali.chat/v1/devices\"\n",
    "jsonData = requests.get(url, headers=headers).json()\n",
    "data={'phone':[],'name':[]}\n",
    "for k in range(0,len(jsonData)):\n",
    "    for j in jsonData[k]['labels']:\n",
    "        data['phone'].append(jsonData[k]['phone'])\n",
    "        data['name'].append(j['name'])\n",
    "df=pd.DataFrame(data,columns=['phone','name'])\n",
    "df.to_excel(\"Data.xlsx\",header=True)\n",
    "\n",
    "fromaddr = \"enter email address from which you want to send\"\n",
    "password = \"password of sender email \"\n",
    "toaddr = \"reciever email\"\n",
    "\n",
    "\n",
    "# instance of MIMEMultipart\n",
    "msg = MIMEMultipart()\n",
    "\n",
    "# storing the senders email address\n",
    "msg['From'] = fromaddr\n",
    "msg['To'] = toaddr\n",
    "msg['Subject'] = \"Details\"\n",
    "\n",
    "# string to store the body of the mail\n",
    "body = \"Details of waliChat\"\n",
    "\n",
    "# attach the body with the msg instance\n",
    "msg.attach(MIMEText(body, 'plain'))\n",
    "\n",
    "# open the file to be sent\n",
    "filename = \"Data.xlsx\"\n",
    "attachment = open(filename, \"rb\")\n",
    "\n",
    "# instance of MIMEBase and named as p\n",
    "p = MIMEBase('application', 'octet-stream')\n",
    "\n",
    "# To change the payload into encoded form\n",
    "p.set_payload((attachment).read())\n",
    "\n",
    "\n",
    "# encode into base64\n",
    "encoders.encode_base64(p)\n",
    "\n",
    "p.add_header('Content-Disposition', \"attachment; filename= %s\" % filename)\n",
    "\n",
    "# attach the instance 'p' to instance 'msg'\n",
    "msg.attach(p)\n",
    "\n",
    "# creates SMTP session\n",
    "server = smtplib.SMTP('smtp.gmail.com', 587)\n",
    "server.starttls()\n",
    "server.login(fromaddr,password)\n",
    "\n",
    "# Converts the Multipart msg into a string\n",
    "text = msg.as_string()\n",
    "\n",
    "server.send_message(msg)\n",
    "\n",
    "server.quit()"
   ]
  },
  {
   "cell_type": "code",
   "execution_count": null,
   "id": "5d5170dd",
   "metadata": {},
   "outputs": [],
   "source": []
  }
 ],
 "metadata": {
  "kernelspec": {
   "display_name": "Python 3 (ipykernel)",
   "language": "python",
   "name": "python3"
  },
  "language_info": {
   "codemirror_mode": {
    "name": "ipython",
    "version": 3
   },
   "file_extension": ".py",
   "mimetype": "text/x-python",
   "name": "python",
   "nbconvert_exporter": "python",
   "pygments_lexer": "ipython3",
   "version": "3.9.13"
  }
 },
 "nbformat": 4,
 "nbformat_minor": 5
}
